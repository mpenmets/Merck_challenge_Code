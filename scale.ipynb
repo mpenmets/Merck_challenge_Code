{
 "cells": [
  {
   "cell_type": "code",
   "execution_count": 6,
   "id": "732ceed7-0879-4a28-bd4f-8d9e20f1b53d",
   "metadata": {},
   "outputs": [],
   "source": [
    "import struct\n",
    "import csv\n",
    "import math\n",
    "\n",
    "def decode_scale_data(binary_path, output_csv_path):\n",
    "    time_wavelengths_count = 1 + ((400 - 190) // 10 + 1)  # Time + 22 wavelengths\n",
    "    data_point_size = 4  # Assuming integer size in bytes\n",
    "    row_struct_format = '<' + 'i' * time_wavelengths_count  # Little endian integer\n",
    "\n",
    "    try:\n",
    "        with open(binary_path, 'rb') as file:\n",
    "            binary_data = file.read()\n",
    "\n",
    "        with open(output_csv_path, 'w', newline='') as csv_file:\n",
    "            writer = csv.writer(csv_file)\n",
    "            headers = ['Time (min)'] + [f'{w}nm' for w in range(190, 401, 10)]\n",
    "            writer.writerow(headers)\n",
    "\n",
    "            # Read and decode each row\n",
    "            for i in range(0, len(binary_data), data_point_size * time_wavelengths_count):\n",
    "                if len(binary_data) - i >= data_point_size * time_wavelengths_count:\n",
    "                    row_data = struct.unpack(row_struct_format, binary_data[i:i + data_point_size * time_wavelengths_count])\n",
    "                    writer.writerow(row_data)  # Write data directly without rounding\n",
    "\n",
    "    except Exception as e:\n",
    "        print(f\"An error occurred: {e}\")\n",
    "\n",
    "# Example usage\n",
    "binary_path = 'scale'\n",
    "output_csv_path = 'decoded_scale.csv'\n",
    "decode_scale_data(binary_path, output_csv_path)\n"
   ]
  },
  {
   "cell_type": "code",
   "execution_count": null,
   "id": "c3b1b712-59ed-4c5d-9b65-fb63889c7db2",
   "metadata": {},
   "outputs": [],
   "source": []
  }
 ],
 "metadata": {
  "kernelspec": {
   "display_name": "Python 3",
   "language": "python",
   "name": "python3"
  },
  "language_info": {
   "codemirror_mode": {
    "name": "ipython",
    "version": 3
   },
   "file_extension": ".py",
   "mimetype": "text/x-python",
   "name": "python",
   "nbconvert_exporter": "python",
   "pygments_lexer": "ipython3",
   "version": "3.8.8"
  }
 },
 "nbformat": 4,
 "nbformat_minor": 5
}
