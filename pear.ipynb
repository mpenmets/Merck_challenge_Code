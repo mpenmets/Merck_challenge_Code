{
 "cells": [
  {
   "cell_type": "code",
   "execution_count": 9,
   "id": "60e7d8f2-00ca-4811-8c22-8a861f128e80",
   "metadata": {},
   "outputs": [],
   "source": [
    "#Script to decode 'pear' binary data file and output as CSV\n",
    "\n",
    "import struct\n",
    "import csv\n",
    "\n",
    "def decode_pear_data(binary_path, output_csv_path, offset=0):\n",
    "    \"\"\"\n",
    "    Decodes the binary data for the 'pear' dataset into CSV format.\n",
    "\n",
    "    :param binary_path: Path to the binary file containing the raw data.\n",
    "    :param output_csv_path: Path to the CSV file where decoded data will be stored.\n",
    "    :param offset: Number of bytes to skip as a header or metadata (default is 0).\n",
    "    \"\"\"\n",
    "    with open(binary_path, 'rb') as file:\n",
    "        binary_data = file.read()\n",
    "    \n",
    "    # Skipping the initial offset bytes\n",
    "    binary_data = binary_data[offset:]\n",
    "    \n",
    "    # Determine the number of pairs (each pair is 8 bytes: 4 bytes for each integer)\n",
    "    num_pairs = len(binary_data) // 8\n",
    "    \n",
    "    # Decode binary data into (time, intensity) pairs\n",
    "    decoded_data = [\n",
    "        struct.unpack('<ii', binary_data[i*8:(i+1)*8])\n",
    "        for i in range(num_pairs)\n",
    "    ]\n",
    "    \n",
    "    # Write decoded data to the output CSV file\n",
    "    with open(output_csv_path, mode='w', newline='') as csv_file:\n",
    "        writer = csv.writer(csv_file)\n",
    "        writer.writerow(['Time (ms)', 'Intensity'])\n",
    "        writer.writerows(decoded_data)\n",
    "\n",
    "# Usage example\n",
    "decode_pear_data('pear', 'decoded_pear.csv', offset=256)\n",
    "\n"
   ]
  },
  {
   "cell_type": "code",
   "execution_count": null,
   "id": "63a1b3bd-4214-42b1-98b4-421cc2b2d1fe",
   "metadata": {},
   "outputs": [],
   "source": []
  }
 ],
 "metadata": {
  "kernelspec": {
   "display_name": "Python 3",
   "language": "python",
   "name": "python3"
  },
  "language_info": {
   "codemirror_mode": {
    "name": "ipython",
    "version": 3
   },
   "file_extension": ".py",
   "mimetype": "text/x-python",
   "name": "python",
   "nbconvert_exporter": "python",
   "pygments_lexer": "ipython3",
   "version": "3.8.8"
  }
 },
 "nbformat": 4,
 "nbformat_minor": 5
}
